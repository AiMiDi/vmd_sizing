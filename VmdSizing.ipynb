{
  "nbformat": 4,
  "nbformat_minor": 0,
  "metadata": {
    "colab": {
      "name": "VmdSizing.ipynb",
      "version": "0.3.2",
      "provenance": [],
      "toc_visible": true
    },
    "kernelspec": {
      "name": "python3",
      "display_name": "Python 3"
    }
  },
  "cells": [
    {
      "cell_type": "markdown",
      "metadata": {
        "id": "tJJSfCvpUFc9",
        "colab_type": "text"
      },
      "source": [
        "# colab版VMDサイジング"
      ]
    },
    {
      "cell_type": "markdown",
      "metadata": {
        "id": "jb2saDP0YPvJ",
        "colab_type": "text"
      },
      "source": [
        "## 機能概要"
      ]
    },
    {
      "cell_type": "markdown",
      "metadata": {
        "id": "HAYM4ZzGYWPI",
        "colab_type": "text"
      },
      "source": [
        "vmd(MMDモーションデータ)を、指定されたモデルに適用したサイズで再生成します。\n",
        "\n",
        "ねんどろ風など、頭身が大幅に異なり、腕と頭の接触を避けたい場合、モデルの頂点情報を指定すると、接触回避処理を追加で行います。"
      ]
    },
    {
      "cell_type": "markdown",
      "metadata": {
        "id": "PvagJZt6UNC0",
        "colab_type": "text"
      },
      "source": [
        "## colab (Google Colaboratory)とは"
      ]
    },
    {
      "cell_type": "markdown",
      "metadata": {
        "id": "OOZS30nnUQ95",
        "colab_type": "text"
      },
      "source": [
        "\n",
        "> Google Colaboratory(略称：colab (コラボ)) は、完全にクラウドで実行される Jupyter ノートブック環境です。設定不要で、無料でご利用になれます。\n",
        "\n",
        "> Jupyter Notebook (ジュピター・ノートブック) とは、ノートブックと呼ばれる形式で作成したプログラムを実行し、実行結果を記録しながら、データの分析作業を進めるためのツールです。\n",
        "\n",
        "Chrome もしくは Firefoxがあれば、後は全部Googleのクラウド上で、VMDサイジングを実行することができます。\n",
        "実行結果のVMD等は、ご自分のローカル環境にダウンロードする事ができます。\n",
        "\n",
        "使い方に少しクセがあるので、最初は[MMD自動トレースの導入編](https://colab.research.google.com/github/miu200521358/motion_trace_colab/blob/master/AutoTraceIntroduction.ipynb)から始めてください。慣れたら本ページの実行のみで大丈夫です。"
      ]
    },
    {
      "cell_type": "markdown",
      "metadata": {
        "id": "CzpQ2xBOWfBz",
        "colab_type": "text"
      },
      "source": [
        "## 実行手順"
      ]
    },
    {
      "cell_type": "markdown",
      "metadata": {
        "id": "qYt49Z4gU-k8",
        "colab_type": "text"
      },
      "source": [
        "このノートブックでは、VMDサイジングの準備と実行を行います。\n",
        "\n",
        "ニコニコ動画で、実行手順の動画を公開しています。参考にしてください。\n",
        "\n",
        "[VMDサイジングツールを作ってみた【ver1.00】\n",
        "](https://www.nicovideo.jp/watch/sm35044496)\n",
        "\n",
        "\n",
        "画面左上の「＞」をクリックして下さい。目次が開きます。\n",
        "\n",
        "![目次](https://drive.google.com/uc?export=view&id=1x8AdFNmsIQPrtYptBf_NXPRNBJF8ON8z)\n",
        "\n",
        "\n",
        "ノートブックを上から順に確認し、以下手順をひとつずつ実行してください。\n",
        "\n",
        "- **「Googleドライブとの連携」**\n",
        "  - Googleドライブとの連携ができたことを確認します\n",
        "  - 連携のやり方は、[MMD自動トレースの導入編](https://colab.research.google.com/github/miu200521358/motion_trace_colab/blob/master/AutoTraceIntroduction.ipynb)をご確認ください\n",
        "- **「VMDサイジング準備」**\n",
        "    - 準備セクションのセルを実行します\n",
        "      - この処理で、MMDサイジングに必要なプログラムやデータがすべてcolab上に作成されます。\n",
        "      - 大体1分くらいかかります。\n",
        "- **「VMDサイジング実行」**\n",
        "  - 実行セクションのセルを上から順番に1つずつ実行します\n",
        "    - パラメーターの設定\n",
        "    - 移動系ボーン（センター・足IK等）の縮尺変換処理を行います。\n",
        "    - 頂点CSVがある場合、頭部と腕の接触回避処理が追加で行います。\n",
        "    - 6000Fで大体2分くらいかかります。\n"
      ]
    },
    {
      "cell_type": "markdown",
      "metadata": {
        "id": "Ki94sBasVdgA",
        "colab_type": "text"
      },
      "source": [
        "# VMDサイジング準備"
      ]
    },
    {
      "cell_type": "markdown",
      "metadata": {
        "id": "vRP20O8iVljB",
        "colab_type": "text"
      },
      "source": [
        "## Googleドライブとの連携"
      ]
    },
    {
      "cell_type": "markdown",
      "metadata": {
        "id": "qBX4oJerVn41",
        "colab_type": "text"
      },
      "source": [
        "Googleドライブの「`vmdsizing`」 フォルダと連携します。\n",
        "\n",
        "Googleドライブに「`vmdsizing`」 フォルダを作成し、下のセルを実行してください。"
      ]
    },
    {
      "cell_type": "code",
      "metadata": {
        "id": "9AmTD3mxUAV5",
        "colab_type": "code",
        "colab": {}
      },
      "source": [
        "from google.colab import drive\n",
        "import os\n",
        "\n",
        "# Googleドライブマウント\n",
        "drive.mount('/gdrive')\n",
        "\n",
        "# 起点ディレクトリ\n",
        "base_path = \"/gdrive/My Drive/vmdsizing\"\n",
        "\n",
        "! echo \"vmdsizingフォルダの中身 -----------\"\n",
        "! ls -l \"$base_path\"\n",
        "! echo \"--------------------\""
      ],
      "execution_count": 0,
      "outputs": []
    },
    {
      "cell_type": "markdown",
      "metadata": {
        "id": "R0kRFJ7EVvvo",
        "colab_type": "text"
      },
      "source": [
        "## 準備実行"
      ]
    },
    {
      "cell_type": "markdown",
      "metadata": {
        "id": "H9ONnXmLVyy0",
        "colab_type": "text"
      },
      "source": [
        "下のセルを実行して下さい。"
      ]
    },
    {
      "cell_type": "code",
      "metadata": {
        "id": "e4hH0njYV2U9",
        "colab_type": "code",
        "colab": {}
      },
      "source": [
        "# 処理時間計測のための開始時間\n",
        "import time\n",
        "start_time = time.time()\n",
        "\n",
        "# vmd_sizing のライブラリ\n",
        "\n",
        "! sudo apt-get install python3-pyqt5  \n",
        "! sudo apt-get install pyqt5-dev-tools\n",
        "! sudo apt-get install qttools5-dev-tools\n",
        "\n",
        "# vmd_sizing の clone\n",
        "! git clone  --depth 1 https://github.com/miu200521358/vmd_sizing.git\n",
        "import time\n",
        "\n",
        "elapsed_time = (time.time() - start_time) / 60\n",
        "\n",
        "! echo \"■■■■■■■■■■■■■■■■■■■■■■■■\"\n",
        "! echo \"■　準備が終了しました\"\n",
        "! echo \"■　\"\n",
        "! echo \"■　処理にかかった時間：\" \"$elapsed_time\" \"分\"\n",
        "! echo \"■■■■■■■■■■■■■■■■■■■■■■■■\"\n"
      ],
      "execution_count": 0,
      "outputs": []
    },
    {
      "cell_type": "markdown",
      "metadata": {
        "id": "IIX9nD2UXMw5",
        "colab_type": "text"
      },
      "source": [
        "# VMDサイジング実行"
      ]
    },
    {
      "cell_type": "markdown",
      "metadata": {
        "id": "iPTmsin3Sk__",
        "colab_type": "text"
      },
      "source": [
        "変換パラメーターを入力して、セルを実行して下さい。"
      ]
    },
    {
      "cell_type": "code",
      "metadata": {
        "id": "zvWvFoOrXeVR",
        "colab_type": "code",
        "cellView": "form",
        "colab": {}
      },
      "source": [
        "import os\n",
        "\n",
        "#@markdown ### 調整対象vmdファイル\n",
        "#@markdown 調整したいvmdファイルを、Googleドライブの「`vmdsizing`」フォルダにアップロードして、ファイル名を指定して下さい。\n",
        "input_vmd = \"test.vmd\"  #@param {type: \"string\"}\n",
        "\n",
        "#@markdown --- \n",
        "\n",
        "#@markdown ### トレース元モデルボーン構造CSVファイル\n",
        "#@markdown トレース元モデルのボーン構造CSVファイルのパスを入力して下さい。\n",
        "#@markdown ボーン構造CSVファイルを、Googleドライブの「`vmdsizing/born`」フォルダにアップロードして、ファイル名を指定して下さい。\n",
        "born_model_csv = \"\\u3042\\u306B\\u307E\\u3055\\u5F0F\\u30DF\\u30AF.csv\"  #@param {type: \"string\"}\n",
        "\n",
        "#@markdown --- \n",
        "\n",
        "#@markdown ### トレース変換先モデルボーン構造CSVファイル\n",
        "#@markdown トレース変換先モデルのボーン構造CSVファイルのパスを入力して下さい。\n",
        "#@markdown ボーン構造CSVファイルを、Googleドライブの「`vmdsizing/born`」フォルダにアップロードして、ファイル名を指定して下さい。\n",
        "#@markdown 頭部と腕の接触回避処理を行いたい場合、頂点構造CSVファイルをボーン構造CSVファイル名と同じ名前で、Googleドライブの「`vmdsizing/vertex`」フォルダにアップロードしてください。\n",
        "replace_model_csv = \"\\u3042\\u306B\\u307E\\u3055\\u5F0F\\u30DF\\u30AF.csv\"  #@param {type: \"string\"}\n",
        "\n",
        "\n",
        "\n",
        "# 調整対象vmdファイルパス\n",
        "input_vmd_path = base_path + \"/\"+ input_vmd\n",
        "!echo 調整対象vmdファイル: \"$input_vmd_path\"\n",
        "\n",
        "if not os.path.exists(input_vmd_path):\n",
        "    print(\"■■■■■■■■■■■■■■■■■\")\n",
        "    print(\"■　**ERROR**　\")\n",
        "    print(\"■　調整対象vmdファイルが見つかりませんでした。\")\n",
        "    print(\"■■■■■■■■■■■■■■■■■\")\n",
        "\n",
        "# トレース元モデルボーン構造CSVファイルパス\n",
        "born_model_csv_path = base_path + \"/born/\"+ born_model_csv\n",
        "!echo トレース元モデルボーン構造CSVファイル: \"$born_model_csv_path\"\n",
        "\n",
        "if not os.path.exists(born_model_csv_path):\n",
        "    print(\"■■■■■■■■■■■■■■■■■\")\n",
        "    print(\"■　**ERROR**　\")\n",
        "    print(\"■　トレース元モデルボーン構造CSVファイルが見つかりませんでした。\")\n",
        "    print(\"■■■■■■■■■■■■■■■■■\")\n",
        "\n",
        "# トレース変換先モデルボーン構造CSVファイルパス\n",
        "replace_model_csv_path = base_path + \"/born/\"+ replace_model_csv\n",
        "!echo トレース変換先モデルボーン構造CSVファイル: \"$replace_model_csv_path\"\n",
        "\n",
        "if not os.path.exists(replace_model_csv_path):\n",
        "    print(\"■■■■■■■■■■■■■■■■■\")\n",
        "    print(\"■　**ERROR**　\")\n",
        "    print(\"■　トレース先モデルボーン構造CSVファイルが見つかりませんでした。\")\n",
        "    print(\"■■■■■■■■■■■■■■■■■\")\n",
        "    \n",
        "\n",
        "# トレース変換先モデル頂点構造CSVファイルパス\n",
        "replace_vertex_csv_path = base_path + \"/vertex/\"+ replace_model_csv\n",
        "!echo トレース変換先モデル頂点構造CSVファイル: \"$replace_vertex_csv_path\"\n",
        "\n",
        "if not os.path.exists(replace_model_csv_path):\n",
        "    print(\"■■■■■■■■■■■■■■■■■\")\n",
        "    print(\"■　**ERROR**　\")\n",
        "    print(\"■　トレース先モデルボーン構造CSVファイルが見つかりませんでした。\")\n",
        "    print(\"■■■■■■■■■■■■■■■■■\")\n",
        "\n",
        "if not os.path.exists(\"./vmd_sizing\"):\n",
        "    print(\"■■■■■■■■■■■■■■■■■\")\n",
        "    print(\"■　**ERROR**　\")\n",
        "    print(\"■　VMDサイジング準備が実行されていません。\")\n",
        "    print(\"■■■■■■■■■■■■■■■■■\")\n",
        "    \n",
        "if os.path.exists(input_vmd_path) and os.path.exists(born_model_csv_path) and os.path.exists(replace_model_csv_path) and os.path.exists(\"./vmd_sizing\"):\n",
        "    print(\"■■■■■■■■■■■■■■■■■\")\n",
        "    print(\"■　VMDサイジング処理実行\")\n",
        "    print(\"■■■■■■■■■■■■■■■■■\")\n",
        "\n",
        "    # とりあえず3ファイルあれば、処理実行\n",
        "    ! cd ./vmd_sizing && python src/main.py --vmd_path \"$input_vmd_path\" --trace_bone_path \"$born_model_csv_path\" --replace_bone_path \"$replace_model_csv_path\" --replace_vertex_path \"$replace_vertex_csv_path\" --verbose 2\n",
        "\n",
        "    print(\"■■■■■■■■■■■■■■■■■\")\n",
        "    print(\"■　VMDサイジング処理実行終了\")\n",
        "    print(\"■■■■■■■■■■■■■■■■■\")\n",
        "    \n",
        "    !ls -l \"$base_path\"\n",
        "else:\n",
        "    print(\"■■■■■■■■■■■■■■■■■\")\n",
        "    print(\"■　**ERROR**　\")\n",
        "    print(\"■　準備に不備があるため、VMDサイジング処理は実行できませんでした。\")\n",
        "    print(\"■■■■■■■■■■■■■■■■■\")\n",
        "    \n",
        "    "
      ],
      "execution_count": 0,
      "outputs": []
    },
    {
      "cell_type": "markdown",
      "metadata": {
        "id": "C9LX27oSWuSj",
        "colab_type": "text"
      },
      "source": [
        "# !README"
      ]
    },
    {
      "cell_type": "markdown",
      "metadata": {
        "id": "2QeNBHiTXYCI",
        "colab_type": "text"
      },
      "source": [
        "## エラーが起きた場合"
      ]
    },
    {
      "cell_type": "markdown",
      "metadata": {
        "id": "mWN7OHoKhill",
        "colab_type": "text"
      },
      "source": [
        "### Googleドライブとの連携が行われていない\n",
        "\n",
        "- 下記のようにメッセージが出た場合、Googleドライブとの連携が行われていない可能性があります。\n",
        "- 【対応策】Googleドライブとの連携セクションのセルを実行してください。\n",
        "\n",
        "------\n",
        "\n",
        "![ドライブ連携失敗](https://drive.google.com/uc?export=view&id=17hkaOwJkR9IkFeQUfkiA3qc61DwVLHi1)"
      ]
    },
    {
      "cell_type": "markdown",
      "metadata": {
        "id": "yvPhi-mZisv5",
        "colab_type": "text"
      },
      "source": [
        "### 準備が出来ていない\n",
        "\n",
        "- 下記のようにメッセージが出た場合、準備が行われていない可能性があります。\n",
        "- 【対応策】準備実行セクションのセルを実行してください。\n",
        "\n",
        "------\n",
        "\n",
        "![準備未実行](https://drive.google.com/uc?export=view&id=1tjo0n4KovZQ9SfML08N6QAC46I0KeNFB)"
      ]
    },
    {
      "cell_type": "markdown",
      "metadata": {
        "id": "IlQ5Fnuog4cK",
        "colab_type": "text"
      },
      "source": [
        "### ファイルパスが正しくない\n",
        "\n",
        "- 下記のようにメッセージが出た場合、Googleドライブのファイルパスが間違っている可能性があります。\n",
        "- 【対応策】Googleドライブの「vmdsizing」フォルダ内のパスを確認してください。\n",
        "\n",
        "------\n",
        "\n",
        "![パラメーター不備](https://drive.google.com/uc?export=view&id=1MPdNbtc534THLxsla7LURPpUiSEWamyq)"
      ]
    },
    {
      "cell_type": "markdown",
      "metadata": {
        "id": "HhRXbDh8ga_P",
        "colab_type": "text"
      },
      "source": [
        "### VMDモーションの読み込みに失敗している\n",
        "\n",
        "- 下記のようにメッセージが出た場合、VMDモーションデータファイルの読み込みに失敗しています。\n",
        "- 【対応策】VMDモーションデータをMMD上でモデルに適用させ、そのデータを「モーションデータ保存」で別名保存して、そのファイルを処理対象にしてください。\n",
        "- 【注意点】モーションを適用させるMMDモデルはトレース元モデルか、もしくはトレース元モデルと同じボーン構造のモデルを使用してください。例えば、グルーブボーンがないモデルに読み込んでしまいますと、変換した後のデータからもグルーブボーンのモーションが消えてしまいます。\n",
        "\n",
        "------\n",
        "\n",
        "![デコード失敗](https://drive.google.com/uc?export=view&id=1p__jWtF7cDmrzzCEgtPBikx38m8Khsup)"
      ]
    },
    {
      "cell_type": "markdown",
      "metadata": {
        "id": "qXAi6j-9XaLE",
        "colab_type": "text"
      },
      "source": [
        " - 上記のどれにも当てはまらないエラーが発生した場合、ノートブックのコピーを私に共有してください。"
      ]
    },
    {
      "cell_type": "markdown",
      "metadata": {
        "id": "UXi-scxVWwS_",
        "colab_type": "text"
      },
      "source": [
        "## 任意事項"
      ]
    },
    {
      "cell_type": "markdown",
      "metadata": {
        "id": "Z2BWjthLW9lU",
        "colab_type": "text"
      },
      "source": [
        "生成したモーションに関して、以下の行為は自由に行って下さい\n",
        "\n",
        " - モーションの調整・改変\n",
        " - ニコニコ動画、Youtube、Twitter等へのモーション使用動画投稿\n",
        "   - 進捗等で生成したモーションそのままを投稿することも問題ありません。\n",
        "\n",
        "**※不特定多数に対する配布は、必ず元々のモーションを作成された作者様にご確認ください。不用意に一般公開したり、配布したりなさらないよう、ご注意ください。**\n",
        "\n"
      ]
    },
    {
      "cell_type": "markdown",
      "metadata": {
        "id": "FzdnSSIDXBJg",
        "colab_type": "text"
      },
      "source": [
        "## 禁止事項"
      ]
    },
    {
      "cell_type": "markdown",
      "metadata": {
        "id": "jSOz-i0hXCtg",
        "colab_type": "text"
      },
      "source": [
        "生成したモーションに関して、以下の行為はご遠慮願います\n",
        "\n",
        " - モーションの完全自作発言\n",
        " - 各権利者様のご迷惑になるような行為\n",
        " - 営利目的の利用\n",
        " - 他者の誹謗中傷目的の利用（二次元・三次元不問）\n",
        " - 過度な暴力・猥褻・恋愛・猟奇的・政治的・宗教的表現を含む（R-15相当）作品への利用\n",
        " - その他、公序良俗に反する作品への利用\n"
      ]
    },
    {
      "cell_type": "markdown",
      "metadata": {
        "id": "sFL-RBGiXEYQ",
        "colab_type": "text"
      },
      "source": [
        "## 免責事項"
      ]
    },
    {
      "cell_type": "markdown",
      "metadata": {
        "id": "u1qtU94uXGC8",
        "colab_type": "text"
      },
      "source": [
        " - 自己責任でご利用ください\n",
        " - ツール使用によって生じたいかなる問題に関して、作者は一切の責任を負いかねます"
      ]
    },
    {
      "cell_type": "markdown",
      "metadata": {
        "id": "WF6VEBIKXIxM",
        "colab_type": "text"
      },
      "source": [
        "# ライセンス"
      ]
    },
    {
      "cell_type": "markdown",
      "metadata": {
        "id": "LPmHiV_gXKhU",
        "colab_type": "text"
      },
      "source": [
        "Apache License 2.0\n",
        "\n",
        " - 変換したVMDモーションの結果を公開・配布する場合は、必ずライセンスの明記をお願い致します。\n",
        " - ニコニコ動画の場合、コンテンツツリーへ[配布動画(sm35044496)](https://www.nicovideo.jp/watch/sm35044496)を登録してください。\n",
        "\n",
        "-----\n",
        "\n",
        "```\n",
        "ツール名：VMDサイジング\n",
        "作者：miu200521358\n",
        "```"
      ]
    }
  ]
}